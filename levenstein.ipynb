{
  "nbformat": 4,
  "nbformat_minor": 0,
  "metadata": {
    "colab": {
      "provenance": [],
      "authorship_tag": "ABX9TyP/4KazE1SWQIgzXYWi66LO",
      "include_colab_link": true
    },
    "kernelspec": {
      "name": "python3",
      "display_name": "Python 3"
    },
    "language_info": {
      "name": "python"
    },
    "widgets": {
      "application/vnd.jupyter.widget-state+json": {
        "55f8becdbd934300bf942eead435e06c": {
          "model_module": "@jupyter-widgets/controls",
          "model_name": "TextModel",
          "model_module_version": "1.5.0",
          "state": {
            "_dom_classes": [],
            "_model_module": "@jupyter-widgets/controls",
            "_model_module_version": "1.5.0",
            "_model_name": "TextModel",
            "_view_count": null,
            "_view_module": "@jupyter-widgets/controls",
            "_view_module_version": "1.5.0",
            "_view_name": "TextView",
            "continuous_update": true,
            "description": "",
            "description_tooltip": null,
            "disabled": false,
            "layout": "IPY_MODEL_8e8f36ff37484730ba150dcc51979c82",
            "placeholder": "​",
            "style": "IPY_MODEL_96f8222fd8ca4e10b141b36d20fee6e7",
            "value": "AMAZON - BOLTON (MAN3) 360 Logistics North"
          }
        },
        "8e8f36ff37484730ba150dcc51979c82": {
          "model_module": "@jupyter-widgets/base",
          "model_name": "LayoutModel",
          "model_module_version": "1.2.0",
          "state": {
            "_model_module": "@jupyter-widgets/base",
            "_model_module_version": "1.2.0",
            "_model_name": "LayoutModel",
            "_view_count": null,
            "_view_module": "@jupyter-widgets/base",
            "_view_module_version": "1.2.0",
            "_view_name": "LayoutView",
            "align_content": null,
            "align_items": null,
            "align_self": null,
            "border": null,
            "bottom": null,
            "display": null,
            "flex": null,
            "flex_flow": null,
            "grid_area": null,
            "grid_auto_columns": null,
            "grid_auto_flow": null,
            "grid_auto_rows": null,
            "grid_column": null,
            "grid_gap": null,
            "grid_row": null,
            "grid_template_areas": null,
            "grid_template_columns": null,
            "grid_template_rows": null,
            "height": null,
            "justify_content": null,
            "justify_items": null,
            "left": null,
            "margin": null,
            "max_height": null,
            "max_width": null,
            "min_height": null,
            "min_width": null,
            "object_fit": null,
            "object_position": null,
            "order": null,
            "overflow": null,
            "overflow_x": null,
            "overflow_y": null,
            "padding": null,
            "right": null,
            "top": null,
            "visibility": null,
            "width": null
          }
        },
        "96f8222fd8ca4e10b141b36d20fee6e7": {
          "model_module": "@jupyter-widgets/controls",
          "model_name": "DescriptionStyleModel",
          "model_module_version": "1.5.0",
          "state": {
            "_model_module": "@jupyter-widgets/controls",
            "_model_module_version": "1.5.0",
            "_model_name": "DescriptionStyleModel",
            "_view_count": null,
            "_view_module": "@jupyter-widgets/base",
            "_view_module_version": "1.2.0",
            "_view_name": "StyleView",
            "description_width": ""
          }
        },
        "5fea1153be7d41359b9a51881a8a931c": {
          "model_module": "@jupyter-widgets/controls",
          "model_name": "HTMLModel",
          "model_module_version": "1.5.0",
          "state": {
            "_dom_classes": [],
            "_model_module": "@jupyter-widgets/controls",
            "_model_module_version": "1.5.0",
            "_model_name": "HTMLModel",
            "_view_count": null,
            "_view_module": "@jupyter-widgets/controls",
            "_view_module_version": "1.5.0",
            "_view_name": "HTMLView",
            "description": "",
            "description_tooltip": null,
            "layout": "IPY_MODEL_54faca89344f496db1e71c2079c8d323",
            "placeholder": "​",
            "style": "IPY_MODEL_c78a5626f63a442189a7a812b6b34ebb",
            "value": " enter match location"
          }
        },
        "54faca89344f496db1e71c2079c8d323": {
          "model_module": "@jupyter-widgets/base",
          "model_name": "LayoutModel",
          "model_module_version": "1.2.0",
          "state": {
            "_model_module": "@jupyter-widgets/base",
            "_model_module_version": "1.2.0",
            "_model_name": "LayoutModel",
            "_view_count": null,
            "_view_module": "@jupyter-widgets/base",
            "_view_module_version": "1.2.0",
            "_view_name": "LayoutView",
            "align_content": null,
            "align_items": null,
            "align_self": null,
            "border": null,
            "bottom": null,
            "display": null,
            "flex": null,
            "flex_flow": null,
            "grid_area": null,
            "grid_auto_columns": null,
            "grid_auto_flow": null,
            "grid_auto_rows": null,
            "grid_column": null,
            "grid_gap": null,
            "grid_row": null,
            "grid_template_areas": null,
            "grid_template_columns": null,
            "grid_template_rows": null,
            "height": null,
            "justify_content": null,
            "justify_items": null,
            "left": null,
            "margin": null,
            "max_height": null,
            "max_width": null,
            "min_height": null,
            "min_width": null,
            "object_fit": null,
            "object_position": null,
            "order": null,
            "overflow": null,
            "overflow_x": null,
            "overflow_y": null,
            "padding": null,
            "right": null,
            "top": null,
            "visibility": null,
            "width": null
          }
        },
        "c78a5626f63a442189a7a812b6b34ebb": {
          "model_module": "@jupyter-widgets/controls",
          "model_name": "DescriptionStyleModel",
          "model_module_version": "1.5.0",
          "state": {
            "_model_module": "@jupyter-widgets/controls",
            "_model_module_version": "1.5.0",
            "_model_name": "DescriptionStyleModel",
            "_view_count": null,
            "_view_module": "@jupyter-widgets/base",
            "_view_module_version": "1.2.0",
            "_view_name": "StyleView",
            "description_width": ""
          }
        },
        "7c6edaec53a24b108bea4a67a49c7227": {
          "model_module": "@jupyter-widgets/controls",
          "model_name": "FileUploadModel",
          "model_module_version": "1.5.0",
          "state": {
            "_counter": 1,
            "_dom_classes": [],
            "_model_module": "@jupyter-widgets/controls",
            "_model_module_version": "1.5.0",
            "_model_name": "FileUploadModel",
            "_view_count": null,
            "_view_module": "@jupyter-widgets/controls",
            "_view_module_version": "1.5.0",
            "_view_name": "FileUploadView",
            "accept": ".csv",
            "button_style": "",
            "data": [
              null
            ],
            "description": "Upload",
            "description_tooltip": null,
            "disabled": false,
            "error": "",
            "icon": "upload",
            "layout": "IPY_MODEL_df3109ba3b004b4b8774b97d386187e3",
            "metadata": [
              {
                "name": "addressdata.csv",
                "type": "text/csv",
                "size": 3008,
                "lastModified": 1691241319926
              }
            ],
            "multiple": false,
            "style": "IPY_MODEL_54acff0fe4f44600b0dbb628b94c97c8"
          }
        },
        "df3109ba3b004b4b8774b97d386187e3": {
          "model_module": "@jupyter-widgets/base",
          "model_name": "LayoutModel",
          "model_module_version": "1.2.0",
          "state": {
            "_model_module": "@jupyter-widgets/base",
            "_model_module_version": "1.2.0",
            "_model_name": "LayoutModel",
            "_view_count": null,
            "_view_module": "@jupyter-widgets/base",
            "_view_module_version": "1.2.0",
            "_view_name": "LayoutView",
            "align_content": null,
            "align_items": null,
            "align_self": null,
            "border": null,
            "bottom": null,
            "display": null,
            "flex": null,
            "flex_flow": null,
            "grid_area": null,
            "grid_auto_columns": null,
            "grid_auto_flow": null,
            "grid_auto_rows": null,
            "grid_column": null,
            "grid_gap": null,
            "grid_row": null,
            "grid_template_areas": null,
            "grid_template_columns": null,
            "grid_template_rows": null,
            "height": null,
            "justify_content": null,
            "justify_items": null,
            "left": null,
            "margin": null,
            "max_height": null,
            "max_width": null,
            "min_height": null,
            "min_width": null,
            "object_fit": null,
            "object_position": null,
            "order": null,
            "overflow": null,
            "overflow_x": null,
            "overflow_y": null,
            "padding": null,
            "right": null,
            "top": null,
            "visibility": null,
            "width": null
          }
        },
        "54acff0fe4f44600b0dbb628b94c97c8": {
          "model_module": "@jupyter-widgets/controls",
          "model_name": "ButtonStyleModel",
          "model_module_version": "1.5.0",
          "state": {
            "_model_module": "@jupyter-widgets/controls",
            "_model_module_version": "1.5.0",
            "_model_name": "ButtonStyleModel",
            "_view_count": null,
            "_view_module": "@jupyter-widgets/base",
            "_view_module_version": "1.2.0",
            "_view_name": "StyleView",
            "button_color": null,
            "font_weight": ""
          }
        },
        "303171d90958436591098fa9acb11017": {
          "model_module": "@jupyter-widgets/controls",
          "model_name": "HTMLModel",
          "model_module_version": "1.5.0",
          "state": {
            "_dom_classes": [],
            "_model_module": "@jupyter-widgets/controls",
            "_model_module_version": "1.5.0",
            "_model_name": "HTMLModel",
            "_view_count": null,
            "_view_module": "@jupyter-widgets/controls",
            "_view_module_version": "1.5.0",
            "_view_name": "HTMLView",
            "description": "",
            "description_tooltip": null,
            "layout": "IPY_MODEL_3134fcc5af6242d0907d10bf931f3e4e",
            "placeholder": "​",
            "style": "IPY_MODEL_c72b4fdb5e1e49978b4211e8f7e8d48c",
            "value": " Select a CSV file to upload."
          }
        },
        "3134fcc5af6242d0907d10bf931f3e4e": {
          "model_module": "@jupyter-widgets/base",
          "model_name": "LayoutModel",
          "model_module_version": "1.2.0",
          "state": {
            "_model_module": "@jupyter-widgets/base",
            "_model_module_version": "1.2.0",
            "_model_name": "LayoutModel",
            "_view_count": null,
            "_view_module": "@jupyter-widgets/base",
            "_view_module_version": "1.2.0",
            "_view_name": "LayoutView",
            "align_content": null,
            "align_items": null,
            "align_self": null,
            "border": null,
            "bottom": null,
            "display": null,
            "flex": null,
            "flex_flow": null,
            "grid_area": null,
            "grid_auto_columns": null,
            "grid_auto_flow": null,
            "grid_auto_rows": null,
            "grid_column": null,
            "grid_gap": null,
            "grid_row": null,
            "grid_template_areas": null,
            "grid_template_columns": null,
            "grid_template_rows": null,
            "height": null,
            "justify_content": null,
            "justify_items": null,
            "left": null,
            "margin": null,
            "max_height": null,
            "max_width": null,
            "min_height": null,
            "min_width": null,
            "object_fit": null,
            "object_position": null,
            "order": null,
            "overflow": null,
            "overflow_x": null,
            "overflow_y": null,
            "padding": null,
            "right": null,
            "top": null,
            "visibility": null,
            "width": null
          }
        },
        "c72b4fdb5e1e49978b4211e8f7e8d48c": {
          "model_module": "@jupyter-widgets/controls",
          "model_name": "DescriptionStyleModel",
          "model_module_version": "1.5.0",
          "state": {
            "_model_module": "@jupyter-widgets/controls",
            "_model_module_version": "1.5.0",
            "_model_name": "DescriptionStyleModel",
            "_view_count": null,
            "_view_module": "@jupyter-widgets/base",
            "_view_module_version": "1.2.0",
            "_view_name": "StyleView",
            "description_width": ""
          }
        },
        "6ffbe78b51244669af9db4abd612c726": {
          "model_module": "@jupyter-widgets/controls",
          "model_name": "IntTextModel",
          "model_module_version": "1.5.0",
          "state": {
            "_dom_classes": [],
            "_model_module": "@jupyter-widgets/controls",
            "_model_module_version": "1.5.0",
            "_model_name": "IntTextModel",
            "_view_count": null,
            "_view_module": "@jupyter-widgets/controls",
            "_view_module_version": "1.5.0",
            "_view_name": "IntTextView",
            "continuous_update": false,
            "description": "new_location:",
            "description_tooltip": null,
            "disabled": false,
            "layout": "IPY_MODEL_42490e4a76a94a0cbdb457becdde8da4",
            "step": 1,
            "style": "IPY_MODEL_63031dc06c604a6cb9b0e4b3e5d8e896",
            "value": 40
          }
        },
        "42490e4a76a94a0cbdb457becdde8da4": {
          "model_module": "@jupyter-widgets/base",
          "model_name": "LayoutModel",
          "model_module_version": "1.2.0",
          "state": {
            "_model_module": "@jupyter-widgets/base",
            "_model_module_version": "1.2.0",
            "_model_name": "LayoutModel",
            "_view_count": null,
            "_view_module": "@jupyter-widgets/base",
            "_view_module_version": "1.2.0",
            "_view_name": "LayoutView",
            "align_content": null,
            "align_items": null,
            "align_self": null,
            "border": null,
            "bottom": null,
            "display": null,
            "flex": null,
            "flex_flow": null,
            "grid_area": null,
            "grid_auto_columns": null,
            "grid_auto_flow": null,
            "grid_auto_rows": null,
            "grid_column": null,
            "grid_gap": null,
            "grid_row": null,
            "grid_template_areas": null,
            "grid_template_columns": null,
            "grid_template_rows": null,
            "height": null,
            "justify_content": null,
            "justify_items": null,
            "left": null,
            "margin": null,
            "max_height": null,
            "max_width": null,
            "min_height": null,
            "min_width": null,
            "object_fit": null,
            "object_position": null,
            "order": null,
            "overflow": null,
            "overflow_x": null,
            "overflow_y": null,
            "padding": null,
            "right": null,
            "top": null,
            "visibility": null,
            "width": null
          }
        },
        "63031dc06c604a6cb9b0e4b3e5d8e896": {
          "model_module": "@jupyter-widgets/controls",
          "model_name": "DescriptionStyleModel",
          "model_module_version": "1.5.0",
          "state": {
            "_model_module": "@jupyter-widgets/controls",
            "_model_module_version": "1.5.0",
            "_model_name": "DescriptionStyleModel",
            "_view_count": null,
            "_view_module": "@jupyter-widgets/base",
            "_view_module_version": "1.2.0",
            "_view_name": "StyleView",
            "description_width": ""
          }
        },
        "02fe79cf060b4eaea05ff60b26913b34": {
          "model_module": "@jupyter-widgets/controls",
          "model_name": "HTMLModel",
          "model_module_version": "1.5.0",
          "state": {
            "_dom_classes": [],
            "_model_module": "@jupyter-widgets/controls",
            "_model_module_version": "1.5.0",
            "_model_name": "HTMLModel",
            "_view_count": null,
            "_view_module": "@jupyter-widgets/controls",
            "_view_module_version": "1.5.0",
            "_view_name": "HTMLView",
            "description": "",
            "description_tooltip": null,
            "layout": "IPY_MODEL_4d02a7cfc8164915ac3028b18d4ac7dc",
            "placeholder": "​",
            "style": "IPY_MODEL_8e6ca85eb6894a049fb00b21650095c2",
            "value": " Value must be larger than the inbox value"
          }
        },
        "4d02a7cfc8164915ac3028b18d4ac7dc": {
          "model_module": "@jupyter-widgets/base",
          "model_name": "LayoutModel",
          "model_module_version": "1.2.0",
          "state": {
            "_model_module": "@jupyter-widgets/base",
            "_model_module_version": "1.2.0",
            "_model_name": "LayoutModel",
            "_view_count": null,
            "_view_module": "@jupyter-widgets/base",
            "_view_module_version": "1.2.0",
            "_view_name": "LayoutView",
            "align_content": null,
            "align_items": null,
            "align_self": null,
            "border": null,
            "bottom": null,
            "display": null,
            "flex": null,
            "flex_flow": null,
            "grid_area": null,
            "grid_auto_columns": null,
            "grid_auto_flow": null,
            "grid_auto_rows": null,
            "grid_column": null,
            "grid_gap": null,
            "grid_row": null,
            "grid_template_areas": null,
            "grid_template_columns": null,
            "grid_template_rows": null,
            "height": null,
            "justify_content": null,
            "justify_items": null,
            "left": null,
            "margin": null,
            "max_height": null,
            "max_width": null,
            "min_height": null,
            "min_width": null,
            "object_fit": null,
            "object_position": null,
            "order": null,
            "overflow": null,
            "overflow_x": null,
            "overflow_y": null,
            "padding": null,
            "right": null,
            "top": null,
            "visibility": null,
            "width": null
          }
        },
        "8e6ca85eb6894a049fb00b21650095c2": {
          "model_module": "@jupyter-widgets/controls",
          "model_name": "DescriptionStyleModel",
          "model_module_version": "1.5.0",
          "state": {
            "_model_module": "@jupyter-widgets/controls",
            "_model_module_version": "1.5.0",
            "_model_name": "DescriptionStyleModel",
            "_view_count": null,
            "_view_module": "@jupyter-widgets/base",
            "_view_module_version": "1.2.0",
            "_view_name": "StyleView",
            "description_width": ""
          }
        },
        "9f0e77e6cc124312a2cabd781dc596c4": {
          "model_module": "@jupyter-widgets/controls",
          "model_name": "IntTextModel",
          "model_module_version": "1.5.0",
          "state": {
            "_dom_classes": [],
            "_model_module": "@jupyter-widgets/controls",
            "_model_module_version": "1.5.0",
            "_model_name": "IntTextModel",
            "_view_count": null,
            "_view_module": "@jupyter-widgets/controls",
            "_view_module_version": "1.5.0",
            "_view_name": "IntTextView",
            "continuous_update": false,
            "description": "inbox",
            "description_tooltip": null,
            "disabled": false,
            "layout": "IPY_MODEL_d96f5c9b1536482b950a20ad45bd6232",
            "step": 1,
            "style": "IPY_MODEL_6dd51d03e9e64e0e874fe8637373c677",
            "value": 20
          }
        },
        "d96f5c9b1536482b950a20ad45bd6232": {
          "model_module": "@jupyter-widgets/base",
          "model_name": "LayoutModel",
          "model_module_version": "1.2.0",
          "state": {
            "_model_module": "@jupyter-widgets/base",
            "_model_module_version": "1.2.0",
            "_model_name": "LayoutModel",
            "_view_count": null,
            "_view_module": "@jupyter-widgets/base",
            "_view_module_version": "1.2.0",
            "_view_name": "LayoutView",
            "align_content": null,
            "align_items": null,
            "align_self": null,
            "border": null,
            "bottom": null,
            "display": null,
            "flex": null,
            "flex_flow": null,
            "grid_area": null,
            "grid_auto_columns": null,
            "grid_auto_flow": null,
            "grid_auto_rows": null,
            "grid_column": null,
            "grid_gap": null,
            "grid_row": null,
            "grid_template_areas": null,
            "grid_template_columns": null,
            "grid_template_rows": null,
            "height": null,
            "justify_content": null,
            "justify_items": null,
            "left": null,
            "margin": null,
            "max_height": null,
            "max_width": null,
            "min_height": null,
            "min_width": null,
            "object_fit": null,
            "object_position": null,
            "order": null,
            "overflow": null,
            "overflow_x": null,
            "overflow_y": null,
            "padding": null,
            "right": null,
            "top": null,
            "visibility": null,
            "width": null
          }
        },
        "6dd51d03e9e64e0e874fe8637373c677": {
          "model_module": "@jupyter-widgets/controls",
          "model_name": "DescriptionStyleModel",
          "model_module_version": "1.5.0",
          "state": {
            "_model_module": "@jupyter-widgets/controls",
            "_model_module_version": "1.5.0",
            "_model_name": "DescriptionStyleModel",
            "_view_count": null,
            "_view_module": "@jupyter-widgets/base",
            "_view_module_version": "1.2.0",
            "_view_name": "StyleView",
            "description_width": ""
          }
        },
        "21377675a39542b3a499d531257ffd1c": {
          "model_module": "@jupyter-widgets/controls",
          "model_name": "HTMLModel",
          "model_module_version": "1.5.0",
          "state": {
            "_dom_classes": [],
            "_model_module": "@jupyter-widgets/controls",
            "_model_module_version": "1.5.0",
            "_model_name": "HTMLModel",
            "_view_count": null,
            "_view_module": "@jupyter-widgets/controls",
            "_view_module_version": "1.5.0",
            "_view_name": "HTMLView",
            "description": "",
            "description_tooltip": null,
            "layout": "IPY_MODEL_8a4353b04a7245979295f4b36091c309",
            "placeholder": "​",
            "style": "IPY_MODEL_02ef1ca6f60749089178b5ba697e3c3c",
            "value": " Value must be smaller than the new location value"
          }
        },
        "8a4353b04a7245979295f4b36091c309": {
          "model_module": "@jupyter-widgets/base",
          "model_name": "LayoutModel",
          "model_module_version": "1.2.0",
          "state": {
            "_model_module": "@jupyter-widgets/base",
            "_model_module_version": "1.2.0",
            "_model_name": "LayoutModel",
            "_view_count": null,
            "_view_module": "@jupyter-widgets/base",
            "_view_module_version": "1.2.0",
            "_view_name": "LayoutView",
            "align_content": null,
            "align_items": null,
            "align_self": null,
            "border": null,
            "bottom": null,
            "display": null,
            "flex": null,
            "flex_flow": null,
            "grid_area": null,
            "grid_auto_columns": null,
            "grid_auto_flow": null,
            "grid_auto_rows": null,
            "grid_column": null,
            "grid_gap": null,
            "grid_row": null,
            "grid_template_areas": null,
            "grid_template_columns": null,
            "grid_template_rows": null,
            "height": null,
            "justify_content": null,
            "justify_items": null,
            "left": null,
            "margin": null,
            "max_height": null,
            "max_width": null,
            "min_height": null,
            "min_width": null,
            "object_fit": null,
            "object_position": null,
            "order": null,
            "overflow": null,
            "overflow_x": null,
            "overflow_y": null,
            "padding": null,
            "right": null,
            "top": null,
            "visibility": null,
            "width": null
          }
        },
        "02ef1ca6f60749089178b5ba697e3c3c": {
          "model_module": "@jupyter-widgets/controls",
          "model_name": "DescriptionStyleModel",
          "model_module_version": "1.5.0",
          "state": {
            "_model_module": "@jupyter-widgets/controls",
            "_model_module_version": "1.5.0",
            "_model_name": "DescriptionStyleModel",
            "_view_count": null,
            "_view_module": "@jupyter-widgets/base",
            "_view_module_version": "1.2.0",
            "_view_name": "StyleView",
            "description_width": ""
          }
        }
      }
    }
  },
  "cells": [
    {
      "cell_type": "markdown",
      "metadata": {
        "id": "view-in-github",
        "colab_type": "text"
      },
      "source": [
        "<a href=\"https://colab.research.google.com/github/RickFaint/varioususefulbatchfiles/blob/main/levenstein.ipynb\" target=\"_parent\"><img src=\"https://colab.research.google.com/assets/colab-badge.svg\" alt=\"Open In Colab\"/></a>"
      ]
    },
    {
      "cell_type": "code",
      "source": [
        "import ipywidgets as widgets\n",
        "from IPython.display import display\n",
        "\n",
        "## run this cell by pressing the play button and then select the file from your drive\n",
        "## file should have two columns the address and the postcode\n",
        "\n",
        "## this code just creates some boxes to put values in\n",
        "\n",
        "auto_create_as_new_location1 = widgets.IntText(\n",
        "    value=40,\n",
        "    description='new_location:',\n",
        "    disabled=False\n",
        ")\n",
        "\n",
        "matchaddress = widgets.Text(\n",
        "    disabled=False,\n",
        "    default = \"AMAZON - BOLTON (MAN3) 360 Logistics North\"\n",
        ")\n",
        "\n",
        "put_in_inbox1 = widgets.IntText(\n",
        "    value=20,\n",
        "    description='inbox',\n",
        "    disabled=False\n",
        ")\n",
        "text_description = widgets.HTML(value=\" Select a CSV file to upload.\")\n",
        "text_description2 = widgets.HTML(value=\" Value must be larger than the inbox value\")\n",
        "text_description3 = widgets.HTML(value=\" Value must be smaller than the new location value\")\n",
        "text_description4 = widgets.HTML(value=\" enter match location\")\n",
        "upload = widgets.FileUpload(\n",
        "\n",
        "    accept='.csv',  # Specify the accepted file type (optional)\n",
        "    multiple=False   # Set to True if you want to allow multiple files to be uploaded\n",
        ")\n",
        "display(matchaddress, text_description4)\n",
        "display(upload, text_description)\n",
        "display(auto_create_as_new_location1, text_description2)\n",
        "display(put_in_inbox1, text_description3)"
      ],
      "metadata": {
        "colab": {
          "base_uri": "https://localhost:8080/",
          "height": 263,
          "referenced_widgets": [
            "55f8becdbd934300bf942eead435e06c",
            "8e8f36ff37484730ba150dcc51979c82",
            "96f8222fd8ca4e10b141b36d20fee6e7",
            "5fea1153be7d41359b9a51881a8a931c",
            "54faca89344f496db1e71c2079c8d323",
            "c78a5626f63a442189a7a812b6b34ebb",
            "7c6edaec53a24b108bea4a67a49c7227",
            "df3109ba3b004b4b8774b97d386187e3",
            "54acff0fe4f44600b0dbb628b94c97c8",
            "303171d90958436591098fa9acb11017",
            "3134fcc5af6242d0907d10bf931f3e4e",
            "c72b4fdb5e1e49978b4211e8f7e8d48c",
            "6ffbe78b51244669af9db4abd612c726",
            "42490e4a76a94a0cbdb457becdde8da4",
            "63031dc06c604a6cb9b0e4b3e5d8e896",
            "02fe79cf060b4eaea05ff60b26913b34",
            "4d02a7cfc8164915ac3028b18d4ac7dc",
            "8e6ca85eb6894a049fb00b21650095c2",
            "9f0e77e6cc124312a2cabd781dc596c4",
            "d96f5c9b1536482b950a20ad45bd6232",
            "6dd51d03e9e64e0e874fe8637373c677",
            "21377675a39542b3a499d531257ffd1c",
            "8a4353b04a7245979295f4b36091c309",
            "02ef1ca6f60749089178b5ba697e3c3c"
          ]
        },
        "id": "Z0CIBxHeTsgi",
        "outputId": "4a29c068-00a6-487f-eac1-61d99d257bfb"
      },
      "execution_count": 93,
      "outputs": [
        {
          "output_type": "display_data",
          "data": {
            "text/plain": [
              "Text(value='')"
            ],
            "application/vnd.jupyter.widget-view+json": {
              "version_major": 2,
              "version_minor": 0,
              "model_id": "55f8becdbd934300bf942eead435e06c"
            }
          },
          "metadata": {}
        },
        {
          "output_type": "display_data",
          "data": {
            "text/plain": [
              "HTML(value=' enter match location')"
            ],
            "application/vnd.jupyter.widget-view+json": {
              "version_major": 2,
              "version_minor": 0,
              "model_id": "5fea1153be7d41359b9a51881a8a931c"
            }
          },
          "metadata": {}
        },
        {
          "output_type": "display_data",
          "data": {
            "text/plain": [
              "FileUpload(value={}, accept='.csv', description='Upload')"
            ],
            "application/vnd.jupyter.widget-view+json": {
              "version_major": 2,
              "version_minor": 0,
              "model_id": "7c6edaec53a24b108bea4a67a49c7227"
            }
          },
          "metadata": {}
        },
        {
          "output_type": "display_data",
          "data": {
            "text/plain": [
              "HTML(value=' Select a CSV file to upload.')"
            ],
            "application/vnd.jupyter.widget-view+json": {
              "version_major": 2,
              "version_minor": 0,
              "model_id": "303171d90958436591098fa9acb11017"
            }
          },
          "metadata": {}
        },
        {
          "output_type": "display_data",
          "data": {
            "text/plain": [
              "IntText(value=40, description='new_location:')"
            ],
            "application/vnd.jupyter.widget-view+json": {
              "version_major": 2,
              "version_minor": 0,
              "model_id": "6ffbe78b51244669af9db4abd612c726"
            }
          },
          "metadata": {}
        },
        {
          "output_type": "display_data",
          "data": {
            "text/plain": [
              "HTML(value=' Value must be larger than the inbox value')"
            ],
            "application/vnd.jupyter.widget-view+json": {
              "version_major": 2,
              "version_minor": 0,
              "model_id": "02fe79cf060b4eaea05ff60b26913b34"
            }
          },
          "metadata": {}
        },
        {
          "output_type": "display_data",
          "data": {
            "text/plain": [
              "IntText(value=20, description='inbox')"
            ],
            "application/vnd.jupyter.widget-view+json": {
              "version_major": 2,
              "version_minor": 0,
              "model_id": "9f0e77e6cc124312a2cabd781dc596c4"
            }
          },
          "metadata": {}
        },
        {
          "output_type": "display_data",
          "data": {
            "text/plain": [
              "HTML(value=' Value must be smaller than the new location value')"
            ],
            "application/vnd.jupyter.widget-view+json": {
              "version_major": 2,
              "version_minor": 0,
              "model_id": "21377675a39542b3a499d531257ffd1c"
            }
          },
          "metadata": {}
        }
      ]
    },
    {
      "cell_type": "code",
      "execution_count": 94,
      "metadata": {
        "colab": {
          "base_uri": "https://localhost:8080/",
          "height": 1000
        },
        "id": "GERo_VjQAnmM",
        "outputId": "6b4ef934-9156-4ee8-8053-c41fed3ede17"
      },
      "outputs": [
        {
          "output_type": "stream",
          "name": "stdout",
          "text": [
            "Drive already mounted at /content/drive; to attempt to forcibly remount, call drive.mount(\"/content/drive\", force_remount=True).\n",
            " it is AMAZON - BOLTON (MAN3) 360 Logistics North\n",
            "AMAZONBOLTONMAN3360LogisticsNorth\n",
            "inbox          34\n",
            "newlocation     8\n",
            "automatch       3\n",
            "Name: category, dtype: int64\n"
          ]
        },
        {
          "output_type": "display_data",
          "data": {
            "text/plain": [
              "<Figure size 1000x600 with 1 Axes>"
            ],
            "image/png": "[encoded data removed]"
          },
          "metadata": {}
        },
        {
          "output_type": "display_data",
          "data": {
            "text/plain": [
              "<Figure size 1000x600 with 1 Axes>"
            ],
            "image/png": "[encoded data removed]"
          },
          "metadata": {}
        },
        {
          "output_type": "stream",
          "name": "stdout",
          "text": [
            "complete\n"
          ]
        }
      ],
      "source": [
        "\n",
        "#!pip install pandas\n",
        "#!pip install python-Levenshtein\n",
        "#!pip install seaborn\n",
        "#!pip install matplotlib\n",
        "import io\n",
        "from google.colab import drive\n",
        "import pandas as pd #import panda library\n",
        "import Levenshtein as pl #import levenstein library\n",
        "import re #import regex library\n",
        "import seaborn as sns #import seaborn\n",
        "import matplotlib.pyplot as plt #import matplotlib\n",
        "\n",
        "def categorise_score(row):\n",
        "  #function used to categorise scores\n",
        "    if row['levenstein_score'] < put_in_inbox_value:\n",
        "        return \"automatch\"\n",
        "    elif put_in_inbox_value <= row['levenstein_score'] < auto_create_as_new_location_value:\n",
        "        return \"inbox\"\n",
        "    else:\n",
        "        return \"newlocation\"\n",
        "\n",
        "drive.mount('/content/drive') # this mounts your google drive however you can just upload from your C drive or other network location\n",
        "\n",
        "# Convert IntText widget values to integers\n",
        "put_in_inbox_value = int(put_in_inbox1.value)\n",
        "auto_create_as_new_location_value = int(auto_create_as_new_location1.value)\n",
        "\n",
        "\n",
        "matchaddress = str(matchaddress.value) #\"AMAZON - BOLTON (MAN3) 360 Logistics North\" # comparison address. Replace with the new address\n",
        "print(\" it is \" + matchaddress)\n",
        "\n",
        "cleanMatch = re.sub(r'\\W+', '', matchaddress)  # removes all white scace and any non alpha numberic charactors\n",
        "\n",
        "print(cleanMatch) # prints the clean match address out this is for checking puporses\n",
        "\n",
        "uploaded_file = list(upload.value.values())[0]\n",
        "\n",
        "\n",
        "\n",
        "# Get the file content as bytes\n",
        "file_content = uploaded_file['content']\n",
        "\n",
        "addressdf = pd.read_csv(io.BytesIO(file_content)) # upload file as a raw string. files are uploaded into a panda.\n",
        "# You will need to upload your file via the file menu on colab. Files are deleted at end of the session\n",
        "# File is the address in a single cell and then the postcode. Postcode is not used . Included in case I want to use it later\n",
        "\n",
        "addressdf.columns = ['address', 'postcode'] #rename columns so that it won't error if columns named differently\n",
        "\n",
        "addressdf['cleaned_address'] = addressdf['address'].str.replace(r'\\W+', '', regex=True) #adds a new column. New column is address with white space and non alpha removed\n",
        "\n",
        "addressdf['levenstein_score'] = addressdf['cleaned_address'].apply(lambda x: pl.distance(x, cleanMatch)) #calculates the lev distance\n",
        "\n",
        "#gives a classification of the lev distance by calling categorise score function\n",
        "addressdf['category'] = addressdf.apply(categorise_score, axis=1)\n",
        "\n",
        "\n",
        "#gets a count of those classifcation then prints them\n",
        "cat_counts = addressdf['category'].str.split().explode().value_counts()\n",
        "print(cat_counts)\n",
        "\n",
        "#calculates the frequency of each levenstien score\n",
        "column_freq = addressdf['levenstein_score'].value_counts()\n",
        "\n",
        "# Plot the frequency chart using Seaborn\n",
        "plt.figure(figsize=(10, 6))\n",
        "sns.barplot(x=column_freq.index, y=column_freq.values)\n",
        "plt.xlabel('levenstein score')\n",
        "plt.ylabel('Frequency')\n",
        "plt.title('Frequency Chart for levenstein_score')\n",
        "plt.xticks(rotation=90)\n",
        "plt.show()\n",
        "\n",
        "column_freq_cat = addressdf['category'].value_counts()\n",
        "\n",
        "# Plot the frequency chart using Seaborn\n",
        "plt.figure(figsize=(10, 6))\n",
        "sns.barplot(x=column_freq_cat.index, y=column_freq_cat.values)\n",
        "plt.xlabel('Category')\n",
        "plt.ylabel('Frequency')\n",
        "plt.title('Frequency Chart for Category')\n",
        "plt.xticks(rotation=90)\n",
        "plt.show()\n",
        "\n",
        "addressdf.to_csv(r\"/content/addressresults.csv\", index=False) #exports the results so you can look at them\n",
        "\n",
        "print(\"complete\") # so you can tell its finished. You need to f5 to see file"
      ]
    },
    {
      "cell_type": "markdown",
      "source": [
        "# New section"
      ],
      "metadata": {
        "id": "pv5hDI0CBrzf"
      }
    }
  ]
}