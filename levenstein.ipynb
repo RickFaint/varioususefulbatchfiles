{
  "nbformat": 4,
  "nbformat_minor": 0,
  "metadata": {
    "colab": {
      "provenance": [],
      "authorship_tag": "ABX9TyONoSkaRDnNyp4cOVk96FgW",
      "include_colab_link": true
    },
    "kernelspec": {
      "name": "python3",
      "display_name": "Python 3"
    },
    "language_info": {
      "name": "python"
    },
    "widgets": {
      "application/vnd.jupyter.widget-state+json": {
        "db534cabccdd42af8d1f3f053e357afc": {
          "model_module": "@jupyter-widgets/controls",
          "model_name": "TextModel",
          "model_module_version": "1.5.0",
          "state": {
            "_dom_classes": [],
            "_model_module": "@jupyter-widgets/controls",
            "_model_module_version": "1.5.0",
            "_model_name": "TextModel",
            "_view_count": null,
            "_view_module": "@jupyter-widgets/controls",
            "_view_module_version": "1.5.0",
            "_view_name": "TextView",
            "continuous_update": true,
            "description": "",
            "description_tooltip": null,
            "disabled": false,
            "layout": "IPY_MODEL_b94092dc35f548fdbc4061cb1adaff33",
            "placeholder": "​",
            "style": "IPY_MODEL_863ccc9907ef4497b6b61be951080740",
            "value": "AMAZON - BOLTON (MAN3) 360 Logistics North"
          }
        },
        "b94092dc35f548fdbc4061cb1adaff33": {
          "model_module": "@jupyter-widgets/base",
          "model_name": "LayoutModel",
          "model_module_version": "1.2.0",
          "state": {
            "_model_module": "@jupyter-widgets/base",
            "_model_module_version": "1.2.0",
            "_model_name": "LayoutModel",
            "_view_count": null,
            "_view_module": "@jupyter-widgets/base",
            "_view_module_version": "1.2.0",
            "_view_name": "LayoutView",
            "align_content": null,
            "align_items": null,
            "align_self": null,
            "border": null,
            "bottom": null,
            "display": null,
            "flex": null,
            "flex_flow": null,
            "grid_area": null,
            "grid_auto_columns": null,
            "grid_auto_flow": null,
            "grid_auto_rows": null,
            "grid_column": null,
            "grid_gap": null,
            "grid_row": null,
            "grid_template_areas": null,
            "grid_template_columns": null,
            "grid_template_rows": null,
            "height": null,
            "justify_content": null,
            "justify_items": null,
            "left": null,
            "margin": null,
            "max_height": null,
            "max_width": null,
            "min_height": null,
            "min_width": null,
            "object_fit": null,
            "object_position": null,
            "order": null,
            "overflow": null,
            "overflow_x": null,
            "overflow_y": null,
            "padding": null,
            "right": null,
            "top": null,
            "visibility": null,
            "width": null
          }
        },
        "863ccc9907ef4497b6b61be951080740": {
          "model_module": "@jupyter-widgets/controls",
          "model_name": "DescriptionStyleModel",
          "model_module_version": "1.5.0",
          "state": {
            "_model_module": "@jupyter-widgets/controls",
            "_model_module_version": "1.5.0",
            "_model_name": "DescriptionStyleModel",
            "_view_count": null,
            "_view_module": "@jupyter-widgets/base",
            "_view_module_version": "1.2.0",
            "_view_name": "StyleView",
            "description_width": ""
          }
        },
        "04a75a7190774b79a3b0eef9e1557c8c": {
          "model_module": "@jupyter-widgets/controls",
          "model_name": "HTMLModel",
          "model_module_version": "1.5.0",
          "state": {
            "_dom_classes": [],
            "_model_module": "@jupyter-widgets/controls",
            "_model_module_version": "1.5.0",
            "_model_name": "HTMLModel",
            "_view_count": null,
            "_view_module": "@jupyter-widgets/controls",
            "_view_module_version": "1.5.0",
            "_view_name": "HTMLView",
            "description": "",
            "description_tooltip": null,
            "layout": "IPY_MODEL_cdb74926bb974206b99d6d85f7a9da4f",
            "placeholder": "​",
            "style": "IPY_MODEL_a9dbacb202764d3abaf3c22aaa8a17e4",
            "value": " enter match location"
          }
        },
        "cdb74926bb974206b99d6d85f7a9da4f": {
          "model_module": "@jupyter-widgets/base",
          "model_name": "LayoutModel",
          "model_module_version": "1.2.0",
          "state": {
            "_model_module": "@jupyter-widgets/base",
            "_model_module_version": "1.2.0",
            "_model_name": "LayoutModel",
            "_view_count": null,
            "_view_module": "@jupyter-widgets/base",
            "_view_module_version": "1.2.0",
            "_view_name": "LayoutView",
            "align_content": null,
            "align_items": null,
            "align_self": null,
            "border": null,
            "bottom": null,
            "display": null,
            "flex": null,
            "flex_flow": null,
            "grid_area": null,
            "grid_auto_columns": null,
            "grid_auto_flow": null,
            "grid_auto_rows": null,
            "grid_column": null,
            "grid_gap": null,
            "grid_row": null,
            "grid_template_areas": null,
            "grid_template_columns": null,
            "grid_template_rows": null,
            "height": null,
            "justify_content": null,
            "justify_items": null,
            "left": null,
            "margin": null,
            "max_height": null,
            "max_width": null,
            "min_height": null,
            "min_width": null,
            "object_fit": null,
            "object_position": null,
            "order": null,
            "overflow": null,
            "overflow_x": null,
            "overflow_y": null,
            "padding": null,
            "right": null,
            "top": null,
            "visibility": null,
            "width": null
          }
        },
        "a9dbacb202764d3abaf3c22aaa8a17e4": {
          "model_module": "@jupyter-widgets/controls",
          "model_name": "DescriptionStyleModel",
          "model_module_version": "1.5.0",
          "state": {
            "_model_module": "@jupyter-widgets/controls",
            "_model_module_version": "1.5.0",
            "_model_name": "DescriptionStyleModel",
            "_view_count": null,
            "_view_module": "@jupyter-widgets/base",
            "_view_module_version": "1.2.0",
            "_view_name": "StyleView",
            "description_width": ""
          }
        },
        "c3ad85166f12429998e6b6904dc91990": {
          "model_module": "@jupyter-widgets/controls",
          "model_name": "FileUploadModel",
          "model_module_version": "1.5.0",
          "state": {
            "_counter": 1,
            "_dom_classes": [],
            "_model_module": "@jupyter-widgets/controls",
            "_model_module_version": "1.5.0",
            "_model_name": "FileUploadModel",
            "_view_count": null,
            "_view_module": "@jupyter-widgets/controls",
            "_view_module_version": "1.5.0",
            "_view_name": "FileUploadView",
            "accept": ".csv",
            "button_style": "",
            "data": [
              null
            ],
            "description": "Upload",
            "description_tooltip": null,
            "disabled": false,
            "error": "",
            "icon": "upload",
            "layout": "IPY_MODEL_6c03bf8c79614a388e103ed9363caf31",
            "metadata": [
              {
                "name": "initialimport.csv",
                "type": "text/csv",
                "size": 3008,
                "lastModified": 1691241319926
              }
            ],
            "multiple": false,
            "style": "IPY_MODEL_533a5ff7803c45baab7803d0651f04b1"
          }
        },
        "6c03bf8c79614a388e103ed9363caf31": {
          "model_module": "@jupyter-widgets/base",
          "model_name": "LayoutModel",
          "model_module_version": "1.2.0",
          "state": {
            "_model_module": "@jupyter-widgets/base",
            "_model_module_version": "1.2.0",
            "_model_name": "LayoutModel",
            "_view_count": null,
            "_view_module": "@jupyter-widgets/base",
            "_view_module_version": "1.2.0",
            "_view_name": "LayoutView",
            "align_content": null,
            "align_items": null,
            "align_self": null,
            "border": null,
            "bottom": null,
            "display": null,
            "flex": null,
            "flex_flow": null,
            "grid_area": null,
            "grid_auto_columns": null,
            "grid_auto_flow": null,
            "grid_auto_rows": null,
            "grid_column": null,
            "grid_gap": null,
            "grid_row": null,
            "grid_template_areas": null,
            "grid_template_columns": null,
            "grid_template_rows": null,
            "height": null,
            "justify_content": null,
            "justify_items": null,
            "left": null,
            "margin": null,
            "max_height": null,
            "max_width": null,
            "min_height": null,
            "min_width": null,
            "object_fit": null,
            "object_position": null,
            "order": null,
            "overflow": null,
            "overflow_x": null,
            "overflow_y": null,
            "padding": null,
            "right": null,
            "top": null,
            "visibility": null,
            "width": null
          }
        },
        "533a5ff7803c45baab7803d0651f04b1": {
          "model_module": "@jupyter-widgets/controls",
          "model_name": "ButtonStyleModel",
          "model_module_version": "1.5.0",
          "state": {
            "_model_module": "@jupyter-widgets/controls",
            "_model_module_version": "1.5.0",
            "_model_name": "ButtonStyleModel",
            "_view_count": null,
            "_view_module": "@jupyter-widgets/base",
            "_view_module_version": "1.2.0",
            "_view_name": "StyleView",
            "button_color": null,
            "font_weight": ""
          }
        },
        "41151a8e92154e5793fded0f02c4e0dd": {
          "model_module": "@jupyter-widgets/controls",
          "model_name": "HTMLModel",
          "model_module_version": "1.5.0",
          "state": {
            "_dom_classes": [],
            "_model_module": "@jupyter-widgets/controls",
            "_model_module_version": "1.5.0",
            "_model_name": "HTMLModel",
            "_view_count": null,
            "_view_module": "@jupyter-widgets/controls",
            "_view_module_version": "1.5.0",
            "_view_name": "HTMLView",
            "description": "",
            "description_tooltip": null,
            "layout": "IPY_MODEL_a1513cad02a84bde90ac736ce0f0840b",
            "placeholder": "​",
            "style": "IPY_MODEL_b64c0a9ca6c749fb98c20c95c2e3b62a",
            "value": " Select a CSV file to upload."
          }
        },
        "a1513cad02a84bde90ac736ce0f0840b": {
          "model_module": "@jupyter-widgets/base",
          "model_name": "LayoutModel",
          "model_module_version": "1.2.0",
          "state": {
            "_model_module": "@jupyter-widgets/base",
            "_model_module_version": "1.2.0",
            "_model_name": "LayoutModel",
            "_view_count": null,
            "_view_module": "@jupyter-widgets/base",
            "_view_module_version": "1.2.0",
            "_view_name": "LayoutView",
            "align_content": null,
            "align_items": null,
            "align_self": null,
            "border": null,
            "bottom": null,
            "display": null,
            "flex": null,
            "flex_flow": null,
            "grid_area": null,
            "grid_auto_columns": null,
            "grid_auto_flow": null,
            "grid_auto_rows": null,
            "grid_column": null,
            "grid_gap": null,
            "grid_row": null,
            "grid_template_areas": null,
            "grid_template_columns": null,
            "grid_template_rows": null,
            "height": null,
            "justify_content": null,
            "justify_items": null,
            "left": null,
            "margin": null,
            "max_height": null,
            "max_width": null,
            "min_height": null,
            "min_width": null,
            "object_fit": null,
            "object_position": null,
            "order": null,
            "overflow": null,
            "overflow_x": null,
            "overflow_y": null,
            "padding": null,
            "right": null,
            "top": null,
            "visibility": null,
            "width": null
          }
        },
        "b64c0a9ca6c749fb98c20c95c2e3b62a": {
          "model_module": "@jupyter-widgets/controls",
          "model_name": "DescriptionStyleModel",
          "model_module_version": "1.5.0",
          "state": {
            "_model_module": "@jupyter-widgets/controls",
            "_model_module_version": "1.5.0",
            "_model_name": "DescriptionStyleModel",
            "_view_count": null,
            "_view_module": "@jupyter-widgets/base",
            "_view_module_version": "1.2.0",
            "_view_name": "StyleView",
            "description_width": ""
          }
        },
        "7681c11cb6a44d60a46208effff8e6ac": {
          "model_module": "@jupyter-widgets/controls",
          "model_name": "IntTextModel",
          "model_module_version": "1.5.0",
          "state": {
            "_dom_classes": [],
            "_model_module": "@jupyter-widgets/controls",
            "_model_module_version": "1.5.0",
            "_model_name": "IntTextModel",
            "_view_count": null,
            "_view_module": "@jupyter-widgets/controls",
            "_view_module_version": "1.5.0",
            "_view_name": "IntTextView",
            "continuous_update": false,
            "description": "new_location:",
            "description_tooltip": null,
            "disabled": false,
            "layout": "IPY_MODEL_af2ec44255494a9aa1d6a5c4d97e73a9",
            "step": 1,
            "style": "IPY_MODEL_facc539c0b4b46fbb28ec1dfda0cf813",
            "value": 60
          }
        },
        "af2ec44255494a9aa1d6a5c4d97e73a9": {
          "model_module": "@jupyter-widgets/base",
          "model_name": "LayoutModel",
          "model_module_version": "1.2.0",
          "state": {
            "_model_module": "@jupyter-widgets/base",
            "_model_module_version": "1.2.0",
            "_model_name": "LayoutModel",
            "_view_count": null,
            "_view_module": "@jupyter-widgets/base",
            "_view_module_version": "1.2.0",
            "_view_name": "LayoutView",
            "align_content": null,
            "align_items": null,
            "align_self": null,
            "border": null,
            "bottom": null,
            "display": null,
            "flex": null,
            "flex_flow": null,
            "grid_area": null,
            "grid_auto_columns": null,
            "grid_auto_flow": null,
            "grid_auto_rows": null,
            "grid_column": null,
            "grid_gap": null,
            "grid_row": null,
            "grid_template_areas": null,
            "grid_template_columns": null,
            "grid_template_rows": null,
            "height": null,
            "justify_content": null,
            "justify_items": null,
            "left": null,
            "margin": null,
            "max_height": null,
            "max_width": null,
            "min_height": null,
            "min_width": null,
            "object_fit": null,
            "object_position": null,
            "order": null,
            "overflow": null,
            "overflow_x": null,
            "overflow_y": null,
            "padding": null,
            "right": null,
            "top": null,
            "visibility": null,
            "width": null
          }
        },
        "facc539c0b4b46fbb28ec1dfda0cf813": {
          "model_module": "@jupyter-widgets/controls",
          "model_name": "DescriptionStyleModel",
          "model_module_version": "1.5.0",
          "state": {
            "_model_module": "@jupyter-widgets/controls",
            "_model_module_version": "1.5.0",
            "_model_name": "DescriptionStyleModel",
            "_view_count": null,
            "_view_module": "@jupyter-widgets/base",
            "_view_module_version": "1.2.0",
            "_view_name": "StyleView",
            "description_width": ""
          }
        },
        "f2f305eacd3a4c8ab904a4779168e06b": {
          "model_module": "@jupyter-widgets/controls",
          "model_name": "HTMLModel",
          "model_module_version": "1.5.0",
          "state": {
            "_dom_classes": [],
            "_model_module": "@jupyter-widgets/controls",
            "_model_module_version": "1.5.0",
            "_model_name": "HTMLModel",
            "_view_count": null,
            "_view_module": "@jupyter-widgets/controls",
            "_view_module_version": "1.5.0",
            "_view_name": "HTMLView",
            "description": "",
            "description_tooltip": null,
            "layout": "IPY_MODEL_116c8430212e4e399e445f27f943d1e5",
            "placeholder": "​",
            "style": "IPY_MODEL_5ed95b010bf14a228e112db3769e0396",
            "value": " Value must be larger than the inbox value"
          }
        },
        "116c8430212e4e399e445f27f943d1e5": {
          "model_module": "@jupyter-widgets/base",
          "model_name": "LayoutModel",
          "model_module_version": "1.2.0",
          "state": {
            "_model_module": "@jupyter-widgets/base",
            "_model_module_version": "1.2.0",
            "_model_name": "LayoutModel",
            "_view_count": null,
            "_view_module": "@jupyter-widgets/base",
            "_view_module_version": "1.2.0",
            "_view_name": "LayoutView",
            "align_content": null,
            "align_items": null,
            "align_self": null,
            "border": null,
            "bottom": null,
            "display": null,
            "flex": null,
            "flex_flow": null,
            "grid_area": null,
            "grid_auto_columns": null,
            "grid_auto_flow": null,
            "grid_auto_rows": null,
            "grid_column": null,
            "grid_gap": null,
            "grid_row": null,
            "grid_template_areas": null,
            "grid_template_columns": null,
            "grid_template_rows": null,
            "height": null,
            "justify_content": null,
            "justify_items": null,
            "left": null,
            "margin": null,
            "max_height": null,
            "max_width": null,
            "min_height": null,
            "min_width": null,
            "object_fit": null,
            "object_position": null,
            "order": null,
            "overflow": null,
            "overflow_x": null,
            "overflow_y": null,
            "padding": null,
            "right": null,
            "top": null,
            "visibility": null,
            "width": null
          }
        },
        "5ed95b010bf14a228e112db3769e0396": {
          "model_module": "@jupyter-widgets/controls",
          "model_name": "DescriptionStyleModel",
          "model_module_version": "1.5.0",
          "state": {
            "_model_module": "@jupyter-widgets/controls",
            "_model_module_version": "1.5.0",
            "_model_name": "DescriptionStyleModel",
            "_view_count": null,
            "_view_module": "@jupyter-widgets/base",
            "_view_module_version": "1.2.0",
            "_view_name": "StyleView",
            "description_width": ""
          }
        },
        "dc00bf2ee7d84fc1ac8b327c713a7d52": {
          "model_module": "@jupyter-widgets/controls",
          "model_name": "IntTextModel",
          "model_module_version": "1.5.0",
          "state": {
            "_dom_classes": [],
            "_model_module": "@jupyter-widgets/controls",
            "_model_module_version": "1.5.0",
            "_model_name": "IntTextModel",
            "_view_count": null,
            "_view_module": "@jupyter-widgets/controls",
            "_view_module_version": "1.5.0",
            "_view_name": "IntTextView",
            "continuous_update": false,
            "description": "inbox",
            "description_tooltip": null,
            "disabled": false,
            "layout": "IPY_MODEL_5c14c082f66d4dde946546ecdd3b9dbd",
            "step": 1,
            "style": "IPY_MODEL_bbb8cd39c66a4e5a97e0693a6201b0c3",
            "value": 40
          }
        },
        "5c14c082f66d4dde946546ecdd3b9dbd": {
          "model_module": "@jupyter-widgets/base",
          "model_name": "LayoutModel",
          "model_module_version": "1.2.0",
          "state": {
            "_model_module": "@jupyter-widgets/base",
            "_model_module_version": "1.2.0",
            "_model_name": "LayoutModel",
            "_view_count": null,
            "_view_module": "@jupyter-widgets/base",
            "_view_module_version": "1.2.0",
            "_view_name": "LayoutView",
            "align_content": null,
            "align_items": null,
            "align_self": null,
            "border": null,
            "bottom": null,
            "display": null,
            "flex": null,
            "flex_flow": null,
            "grid_area": null,
            "grid_auto_columns": null,
            "grid_auto_flow": null,
            "grid_auto_rows": null,
            "grid_column": null,
            "grid_gap": null,
            "grid_row": null,
            "grid_template_areas": null,
            "grid_template_columns": null,
            "grid_template_rows": null,
            "height": null,
            "justify_content": null,
            "justify_items": null,
            "left": null,
            "margin": null,
            "max_height": null,
            "max_width": null,
            "min_height": null,
            "min_width": null,
            "object_fit": null,
            "object_position": null,
            "order": null,
            "overflow": null,
            "overflow_x": null,
            "overflow_y": null,
            "padding": null,
            "right": null,
            "top": null,
            "visibility": null,
            "width": null
          }
        },
        "bbb8cd39c66a4e5a97e0693a6201b0c3": {
          "model_module": "@jupyter-widgets/controls",
          "model_name": "DescriptionStyleModel",
          "model_module_version": "1.5.0",
          "state": {
            "_model_module": "@jupyter-widgets/controls",
            "_model_module_version": "1.5.0",
            "_model_name": "DescriptionStyleModel",
            "_view_count": null,
            "_view_module": "@jupyter-widgets/base",
            "_view_module_version": "1.2.0",
            "_view_name": "StyleView",
            "description_width": ""
          }
        },
        "fe2f6cd733724df4a8079dc8f8d0b812": {
          "model_module": "@jupyter-widgets/controls",
          "model_name": "HTMLModel",
          "model_module_version": "1.5.0",
          "state": {
            "_dom_classes": [],
            "_model_module": "@jupyter-widgets/controls",
            "_model_module_version": "1.5.0",
            "_model_name": "HTMLModel",
            "_view_count": null,
            "_view_module": "@jupyter-widgets/controls",
            "_view_module_version": "1.5.0",
            "_view_name": "HTMLView",
            "description": "",
            "description_tooltip": null,
            "layout": "IPY_MODEL_3d52afef2089420ea78bd43fab9ccd99",
            "placeholder": "​",
            "style": "IPY_MODEL_c1109353d88a488eacabb2bdebf366c6",
            "value": " Value must be smaller than the new location value"
          }
        },
        "3d52afef2089420ea78bd43fab9ccd99": {
          "model_module": "@jupyter-widgets/base",
          "model_name": "LayoutModel",
          "model_module_version": "1.2.0",
          "state": {
            "_model_module": "@jupyter-widgets/base",
            "_model_module_version": "1.2.0",
            "_model_name": "LayoutModel",
            "_view_count": null,
            "_view_module": "@jupyter-widgets/base",
            "_view_module_version": "1.2.0",
            "_view_name": "LayoutView",
            "align_content": null,
            "align_items": null,
            "align_self": null,
            "border": null,
            "bottom": null,
            "display": null,
            "flex": null,
            "flex_flow": null,
            "grid_area": null,
            "grid_auto_columns": null,
            "grid_auto_flow": null,
            "grid_auto_rows": null,
            "grid_column": null,
            "grid_gap": null,
            "grid_row": null,
            "grid_template_areas": null,
            "grid_template_columns": null,
            "grid_template_rows": null,
            "height": null,
            "justify_content": null,
            "justify_items": null,
            "left": null,
            "margin": null,
            "max_height": null,
            "max_width": null,
            "min_height": null,
            "min_width": null,
            "object_fit": null,
            "object_position": null,
            "order": null,
            "overflow": null,
            "overflow_x": null,
            "overflow_y": null,
            "padding": null,
            "right": null,
            "top": null,
            "visibility": null,
            "width": null
          }
        },
        "c1109353d88a488eacabb2bdebf366c6": {
          "model_module": "@jupyter-widgets/controls",
          "model_name": "DescriptionStyleModel",
          "model_module_version": "1.5.0",
          "state": {
            "_model_module": "@jupyter-widgets/controls",
            "_model_module_version": "1.5.0",
            "_model_name": "DescriptionStyleModel",
            "_view_count": null,
            "_view_module": "@jupyter-widgets/base",
            "_view_module_version": "1.2.0",
            "_view_name": "StyleView",
            "description_width": ""
          }
        },
        "48b7bf5bb8e14ba8ad8b75e9a1654074": {
          "model_module": "@jupyter-widgets/controls",
          "model_name": "FileUploadModel",
          "model_module_version": "1.5.0",
          "state": {
            "_counter": 1,
            "_dom_classes": [],
            "_model_module": "@jupyter-widgets/controls",
            "_model_module_version": "1.5.0",
            "_model_name": "FileUploadModel",
            "_view_count": null,
            "_view_module": "@jupyter-widgets/controls",
            "_view_module_version": "1.5.0",
            "_view_name": "FileUploadView",
            "accept": ".csv",
            "button_style": "",
            "data": [
              null
            ],
            "description": "Upload",
            "description_tooltip": null,
            "disabled": false,
            "error": "",
            "icon": "upload",
            "layout": "IPY_MODEL_950f63d03e504ddca3e4cc07ed64cff1",
            "metadata": [
              {
                "name": "class.csv",
                "type": "text/csv",
                "size": 6228,
                "lastModified": 1691312925068
              }
            ],
            "multiple": false,
            "style": "IPY_MODEL_55c434be7a3940199012460791aebf7b"
          }
        },
        "950f63d03e504ddca3e4cc07ed64cff1": {
          "model_module": "@jupyter-widgets/base",
          "model_name": "LayoutModel",
          "model_module_version": "1.2.0",
          "state": {
            "_model_module": "@jupyter-widgets/base",
            "_model_module_version": "1.2.0",
            "_model_name": "LayoutModel",
            "_view_count": null,
            "_view_module": "@jupyter-widgets/base",
            "_view_module_version": "1.2.0",
            "_view_name": "LayoutView",
            "align_content": null,
            "align_items": null,
            "align_self": null,
            "border": null,
            "bottom": null,
            "display": null,
            "flex": null,
            "flex_flow": null,
            "grid_area": null,
            "grid_auto_columns": null,
            "grid_auto_flow": null,
            "grid_auto_rows": null,
            "grid_column": null,
            "grid_gap": null,
            "grid_row": null,
            "grid_template_areas": null,
            "grid_template_columns": null,
            "grid_template_rows": null,
            "height": null,
            "justify_content": null,
            "justify_items": null,
            "left": null,
            "margin": null,
            "max_height": null,
            "max_width": null,
            "min_height": null,
            "min_width": null,
            "object_fit": null,
            "object_position": null,
            "order": null,
            "overflow": null,
            "overflow_x": null,
            "overflow_y": null,
            "padding": null,
            "right": null,
            "top": null,
            "visibility": null,
            "width": null
          }
        },
        "55c434be7a3940199012460791aebf7b": {
          "model_module": "@jupyter-widgets/controls",
          "model_name": "ButtonStyleModel",
          "model_module_version": "1.5.0",
          "state": {
            "_model_module": "@jupyter-widgets/controls",
            "_model_module_version": "1.5.0",
            "_model_name": "ButtonStyleModel",
            "_view_count": null,
            "_view_module": "@jupyter-widgets/base",
            "_view_module_version": "1.2.0",
            "_view_name": "StyleView",
            "button_color": null,
            "font_weight": ""
          }
        },
        "23809b4af28843a19ee212c328f43dff": {
          "model_module": "@jupyter-widgets/controls",
          "model_name": "HTMLModel",
          "model_module_version": "1.5.0",
          "state": {
            "_dom_classes": [],
            "_model_module": "@jupyter-widgets/controls",
            "_model_module_version": "1.5.0",
            "_model_name": "HTMLModel",
            "_view_count": null,
            "_view_module": "@jupyter-widgets/controls",
            "_view_module_version": "1.5.0",
            "_view_name": "HTMLView",
            "description": "",
            "description_tooltip": null,
            "layout": "IPY_MODEL_ffc4d337749347cd9501a5fdfc0275c1",
            "placeholder": "​",
            "style": "IPY_MODEL_f7ca56e7721f4aa9985add4abbe7a55d",
            "value": " import your results sheet including you classifations"
          }
        },
        "ffc4d337749347cd9501a5fdfc0275c1": {
          "model_module": "@jupyter-widgets/base",
          "model_name": "LayoutModel",
          "model_module_version": "1.2.0",
          "state": {
            "_model_module": "@jupyter-widgets/base",
            "_model_module_version": "1.2.0",
            "_model_name": "LayoutModel",
            "_view_count": null,
            "_view_module": "@jupyter-widgets/base",
            "_view_module_version": "1.2.0",
            "_view_name": "LayoutView",
            "align_content": null,
            "align_items": null,
            "align_self": null,
            "border": null,
            "bottom": null,
            "display": null,
            "flex": null,
            "flex_flow": null,
            "grid_area": null,
            "grid_auto_columns": null,
            "grid_auto_flow": null,
            "grid_auto_rows": null,
            "grid_column": null,
            "grid_gap": null,
            "grid_row": null,
            "grid_template_areas": null,
            "grid_template_columns": null,
            "grid_template_rows": null,
            "height": null,
            "justify_content": null,
            "justify_items": null,
            "left": null,
            "margin": null,
            "max_height": null,
            "max_width": null,
            "min_height": null,
            "min_width": null,
            "object_fit": null,
            "object_position": null,
            "order": null,
            "overflow": null,
            "overflow_x": null,
            "overflow_y": null,
            "padding": null,
            "right": null,
            "top": null,
            "visibility": null,
            "width": null
          }
        },
        "f7ca56e7721f4aa9985add4abbe7a55d": {
          "model_module": "@jupyter-widgets/controls",
          "model_name": "DescriptionStyleModel",
          "model_module_version": "1.5.0",
          "state": {
            "_model_module": "@jupyter-widgets/controls",
            "_model_module_version": "1.5.0",
            "_model_name": "DescriptionStyleModel",
            "_view_count": null,
            "_view_module": "@jupyter-widgets/base",
            "_view_module_version": "1.2.0",
            "_view_name": "StyleView",
            "description_width": ""
          }
        }
      }
    }
  },
  "cells": [
    {
      "cell_type": "markdown",
      "metadata": {
        "id": "view-in-github",
        "colab_type": "text"
      },
      "source": [
        "<a href=\"https://colab.research.google.com/github/RickFaint/varioususefulbatchfiles/blob/main/levenstein.ipynb\" target=\"_parent\"><img src=\"https://colab.research.google.com/assets/colab-badge.svg\" alt=\"Open In Colab\"/></a>"
      ]
    },
    {
      "cell_type": "code",
      "source": [
        "import ipywidgets as widgets\n",
        "from IPython.display import display\n",
        "\n",
        "## run this cell by pressing the play button and then select the file from your drive\n",
        "## file should have two columns the address and the postcode\n",
        "\n",
        "## this code just creates some boxes to put values in\n",
        "\n",
        "auto_create_as_new_location1 = widgets.IntText(\n",
        "    value=40,\n",
        "    description='new_location:',\n",
        "    disabled=False\n",
        ")\n",
        "\n",
        "matchaddress = widgets.Text(\n",
        "    disabled=False,\n",
        "    default = \"AMAZON - BOLTON (MAN3) 360 Logistics North\"\n",
        ")\n",
        "\n",
        "put_in_inbox1 = widgets.IntText(\n",
        "    value=20,\n",
        "    description='inbox',\n",
        "    disabled=False\n",
        ")\n",
        "text_description = widgets.HTML(value=\" Select a CSV file to upload.\")\n",
        "text_description2 = widgets.HTML(value=\" Value must be larger than the inbox value\")\n",
        "text_description3 = widgets.HTML(value=\" Value must be smaller than the new location value\")\n",
        "text_description4 = widgets.HTML(value=\" enter match location\")\n",
        "upload = widgets.FileUpload(\n",
        "\n",
        "    accept='.csv',  # Specify the accepted file type (optional)\n",
        "    multiple=False   # Set to True if you want to allow multiple files to be uploaded\n",
        ")\n",
        "display(matchaddress, text_description4)\n",
        "display(upload, text_description)\n",
        "display(auto_create_as_new_location1, text_description2)\n",
        "display(put_in_inbox1, text_description3)"
      ],
      "metadata": {
        "colab": {
          "base_uri": "https://localhost:8080/",
          "height": 263,
          "referenced_widgets": [
            "db534cabccdd42af8d1f3f053e357afc",
            "b94092dc35f548fdbc4061cb1adaff33",
            "863ccc9907ef4497b6b61be951080740",
            "04a75a7190774b79a3b0eef9e1557c8c",
            "cdb74926bb974206b99d6d85f7a9da4f",
            "a9dbacb202764d3abaf3c22aaa8a17e4",
            "c3ad85166f12429998e6b6904dc91990",
            "6c03bf8c79614a388e103ed9363caf31",
            "533a5ff7803c45baab7803d0651f04b1",
            "41151a8e92154e5793fded0f02c4e0dd",
            "a1513cad02a84bde90ac736ce0f0840b",
            "b64c0a9ca6c749fb98c20c95c2e3b62a",
            "7681c11cb6a44d60a46208effff8e6ac",
            "af2ec44255494a9aa1d6a5c4d97e73a9",
            "facc539c0b4b46fbb28ec1dfda0cf813",
            "f2f305eacd3a4c8ab904a4779168e06b",
            "116c8430212e4e399e445f27f943d1e5",
            "5ed95b010bf14a228e112db3769e0396",
            "dc00bf2ee7d84fc1ac8b327c713a7d52",
            "5c14c082f66d4dde946546ecdd3b9dbd",
            "bbb8cd39c66a4e5a97e0693a6201b0c3",
            "fe2f6cd733724df4a8079dc8f8d0b812",
            "3d52afef2089420ea78bd43fab9ccd99",
            "c1109353d88a488eacabb2bdebf366c6"
          ]
        },
        "id": "Z0CIBxHeTsgi",
        "outputId": "8306e053-ea57-4837-864b-4e9fa3b2cc16"
      },
      "execution_count": 37,
      "outputs": [
        {
          "output_type": "display_data",
          "data": {
            "text/plain": [
              "Text(value='')"
            ],
            "application/vnd.jupyter.widget-view+json": {
              "version_major": 2,
              "version_minor": 0,
              "model_id": "db534cabccdd42af8d1f3f053e357afc"
            }
          },
          "metadata": {}
        },
        {
          "output_type": "display_data",
          "data": {
            "text/plain": [
              "HTML(value=' enter match location')"
            ],
            "application/vnd.jupyter.widget-view+json": {
              "version_major": 2,
              "version_minor": 0,
              "model_id": "04a75a7190774b79a3b0eef9e1557c8c"
            }
          },
          "metadata": {}
        },
        {
          "output_type": "display_data",
          "data": {
            "text/plain": [
              "FileUpload(value={}, accept='.csv', description='Upload')"
            ],
            "application/vnd.jupyter.widget-view+json": {
              "version_major": 2,
              "version_minor": 0,
              "model_id": "c3ad85166f12429998e6b6904dc91990"
            }
          },
          "metadata": {}
        },
        {
          "output_type": "display_data",
          "data": {
            "text/plain": [
              "HTML(value=' Select a CSV file to upload.')"
            ],
            "application/vnd.jupyter.widget-view+json": {
              "version_major": 2,
              "version_minor": 0,
              "model_id": "41151a8e92154e5793fded0f02c4e0dd"
            }
          },
          "metadata": {}
        },
        {
          "output_type": "display_data",
          "data": {
            "text/plain": [
              "IntText(value=40, description='new_location:')"
            ],
            "application/vnd.jupyter.widget-view+json": {
              "version_major": 2,
              "version_minor": 0,
              "model_id": "7681c11cb6a44d60a46208effff8e6ac"
            }
          },
          "metadata": {}
        },
        {
          "output_type": "display_data",
          "data": {
            "text/plain": [
              "HTML(value=' Value must be larger than the inbox value')"
            ],
            "application/vnd.jupyter.widget-view+json": {
              "version_major": 2,
              "version_minor": 0,
              "model_id": "f2f305eacd3a4c8ab904a4779168e06b"
            }
          },
          "metadata": {}
        },
        {
          "output_type": "display_data",
          "data": {
            "text/plain": [
              "IntText(value=20, description='inbox')"
            ],
            "application/vnd.jupyter.widget-view+json": {
              "version_major": 2,
              "version_minor": 0,
              "model_id": "dc00bf2ee7d84fc1ac8b327c713a7d52"
            }
          },
          "metadata": {}
        },
        {
          "output_type": "display_data",
          "data": {
            "text/plain": [
              "HTML(value=' Value must be smaller than the new location value')"
            ],
            "application/vnd.jupyter.widget-view+json": {
              "version_major": 2,
              "version_minor": 0,
              "model_id": "fe2f6cd733724df4a8079dc8f8d0b812"
            }
          },
          "metadata": {}
        }
      ]
    },
    {
      "cell_type": "code",
      "execution_count": 39,
      "metadata": {
        "colab": {
          "base_uri": "https://localhost:8080/",
          "height": 1000
        },
        "id": "GERo_VjQAnmM",
        "outputId": "277d799a-230c-4895-fe50-b4cad7780964"
      },
      "outputs": [
        {
          "output_type": "stream",
          "name": "stdout",
          "text": [
            "Requirement already satisfied: pandas in /usr/local/lib/python3.10/dist-packages (1.5.3)\n",
            "Requirement already satisfied: python-dateutil>=2.8.1 in /usr/local/lib/python3.10/dist-packages (from pandas) (2.8.2)\n",
            "Requirement already satisfied: pytz>=2020.1 in /usr/local/lib/python3.10/dist-packages (from pandas) (2022.7.1)\n",
            "Requirement already satisfied: numpy>=1.21.0 in /usr/local/lib/python3.10/dist-packages (from pandas) (1.22.4)\n",
            "Requirement already satisfied: six>=1.5 in /usr/local/lib/python3.10/dist-packages (from python-dateutil>=2.8.1->pandas) (1.16.0)\n",
            "Requirement already satisfied: python-Levenshtein in /usr/local/lib/python3.10/dist-packages (0.21.1)\n",
            "Requirement already satisfied: Levenshtein==0.21.1 in /usr/local/lib/python3.10/dist-packages (from python-Levenshtein) (0.21.1)\n",
            "Requirement already satisfied: rapidfuzz<4.0.0,>=2.3.0 in /usr/local/lib/python3.10/dist-packages (from Levenshtein==0.21.1->python-Levenshtein) (3.2.0)\n",
            "Requirement already satisfied: seaborn in /usr/local/lib/python3.10/dist-packages (0.12.2)\n",
            "Requirement already satisfied: numpy!=1.24.0,>=1.17 in /usr/local/lib/python3.10/dist-packages (from seaborn) (1.22.4)\n",
            "Requirement already satisfied: pandas>=0.25 in /usr/local/lib/python3.10/dist-packages (from seaborn) (1.5.3)\n",
            "Requirement already satisfied: matplotlib!=3.6.1,>=3.1 in /usr/local/lib/python3.10/dist-packages (from seaborn) (3.7.1)\n",
            "Requirement already satisfied: contourpy>=1.0.1 in /usr/local/lib/python3.10/dist-packages (from matplotlib!=3.6.1,>=3.1->seaborn) (1.1.0)\n",
            "Requirement already satisfied: cycler>=0.10 in /usr/local/lib/python3.10/dist-packages (from matplotlib!=3.6.1,>=3.1->seaborn) (0.11.0)\n",
            "Requirement already satisfied: fonttools>=4.22.0 in /usr/local/lib/python3.10/dist-packages (from matplotlib!=3.6.1,>=3.1->seaborn) (4.41.1)\n",
            "Requirement already satisfied: kiwisolver>=1.0.1 in /usr/local/lib/python3.10/dist-packages (from matplotlib!=3.6.1,>=3.1->seaborn) (1.4.4)\n",
            "Requirement already satisfied: packaging>=20.0 in /usr/local/lib/python3.10/dist-packages (from matplotlib!=3.6.1,>=3.1->seaborn) (23.1)\n",
            "Requirement already satisfied: pillow>=6.2.0 in /usr/local/lib/python3.10/dist-packages (from matplotlib!=3.6.1,>=3.1->seaborn) (9.4.0)\n",
            "Requirement already satisfied: pyparsing>=2.3.1 in /usr/local/lib/python3.10/dist-packages (from matplotlib!=3.6.1,>=3.1->seaborn) (3.1.0)\n",
            "Requirement already satisfied: python-dateutil>=2.7 in /usr/local/lib/python3.10/dist-packages (from matplotlib!=3.6.1,>=3.1->seaborn) (2.8.2)\n",
            "Requirement already satisfied: pytz>=2020.1 in /usr/local/lib/python3.10/dist-packages (from pandas>=0.25->seaborn) (2022.7.1)\n",
            "Requirement already satisfied: six>=1.5 in /usr/local/lib/python3.10/dist-packages (from python-dateutil>=2.7->matplotlib!=3.6.1,>=3.1->seaborn) (1.16.0)\n",
            "Requirement already satisfied: matplotlib in /usr/local/lib/python3.10/dist-packages (3.7.1)\n",
            "Requirement already satisfied: contourpy>=1.0.1 in /usr/local/lib/python3.10/dist-packages (from matplotlib) (1.1.0)\n",
            "Requirement already satisfied: cycler>=0.10 in /usr/local/lib/python3.10/dist-packages (from matplotlib) (0.11.0)\n",
            "Requirement already satisfied: fonttools>=4.22.0 in /usr/local/lib/python3.10/dist-packages (from matplotlib) (4.41.1)\n",
            "Requirement already satisfied: kiwisolver>=1.0.1 in /usr/local/lib/python3.10/dist-packages (from matplotlib) (1.4.4)\n",
            "Requirement already satisfied: numpy>=1.20 in /usr/local/lib/python3.10/dist-packages (from matplotlib) (1.22.4)\n",
            "Requirement already satisfied: packaging>=20.0 in /usr/local/lib/python3.10/dist-packages (from matplotlib) (23.1)\n",
            "Requirement already satisfied: pillow>=6.2.0 in /usr/local/lib/python3.10/dist-packages (from matplotlib) (9.4.0)\n",
            "Requirement already satisfied: pyparsing>=2.3.1 in /usr/local/lib/python3.10/dist-packages (from matplotlib) (3.1.0)\n",
            "Requirement already satisfied: python-dateutil>=2.7 in /usr/local/lib/python3.10/dist-packages (from matplotlib) (2.8.2)\n",
            "Requirement already satisfied: six>=1.5 in /usr/local/lib/python3.10/dist-packages (from python-dateutil>=2.7->matplotlib) (1.16.0)\n",
            "Drive already mounted at /content/drive; to attempt to forcibly remount, call drive.mount(\"/content/drive\", force_remount=True).\n",
            " it is TEXT(VALUE='AMAZON - BOLTON (MAN3) 360 LOGISTICS NORTH')\n",
            "TEXTVALUEAMAZONBOLTONMAN3360LOGISTICSNORTH\n",
            "automatch      36\n",
            "inbox           8\n",
            "newlocation     1\n",
            "Name: category, dtype: int64\n"
          ]
        },
        {
          "output_type": "display_data",
          "data": {
            "text/plain": [
              "<Figure size 1000x600 with 1 Axes>"
            ],
            "image/png": "[encoded data removed]"
          },
          "metadata": {}
        },
        {
          "output_type": "display_data",
          "data": {
            "text/plain": [
              "<Figure size 1000x600 with 1 Axes>"
            ],
            "image/png": "[encoded data removed]"
          },
          "metadata": {}
        },
        {
          "output_type": "stream",
          "name": "stdout",
          "text": [
            "complete\n"
          ]
        }
      ],
      "source": [
        "# the installs below need to be done once per session uncomment the first time you log in\n",
        "# run the cell. It will do the imports . Then comment out . If you do not comment out\n",
        "# it wil still work but it will take x2 as long\n",
        "\n",
        "!pip install pandas\n",
        "!pip install python-Levenshtein\n",
        "!pip install seaborn\n",
        "!pip install matplotlib\n",
        "import io\n",
        "from google.colab import drive\n",
        "import pandas as pd #import panda library\n",
        "import Levenshtein as pl #import levenstein library\n",
        "import re #import regex library\n",
        "import seaborn as sns #import seaborn\n",
        "import matplotlib.pyplot as plt #import matplotlib\n",
        "\n",
        "def categorise_score(row):\n",
        "  #function used to categorise scores\n",
        "    if row['levenstein_score'] < put_in_inbox_value:\n",
        "        return \"automatch\"\n",
        "    elif put_in_inbox_value <= row['levenstein_score'] < auto_create_as_new_location_value:\n",
        "        return \"inbox\"\n",
        "    else:\n",
        "        return \"newlocation\"\n",
        "\n",
        "drive.mount('/content/drive') # this mounts your google drive however you can just upload from your C drive or other network location\n",
        "\n",
        "# Convert IntText widget values to integers\n",
        "put_in_inbox_value = int(put_in_inbox1.value)\n",
        "auto_create_as_new_location_value = int(auto_create_as_new_location1.value)\n",
        "\n",
        "\n",
        "matchaddress = str(matchaddress).upper() # example \"AMAZON - BOLTON (MAN3) 360 Logistics North\" # comparison address.\n",
        "print(\" it is \" + matchaddress)\n",
        "\n",
        "cleanMatch = re.sub(r'\\W+', '', matchaddress)  # removes all white space and any non alpha numberic charactors\n",
        "\n",
        "print(cleanMatch) # prints the clean match address out this is for checking puporses\n",
        "\n",
        "uploaded_file = list(upload.value.values())[0]\n",
        "\n",
        "\n",
        "\n",
        "# Get the file content as bytes\n",
        "file_content = uploaded_file['content']\n",
        "\n",
        "addressdf = pd.read_csv(io.BytesIO(file_content)) # upload file as a raw string. files are uploaded into a panda.\n",
        "# You will need to upload your file via the file menu on colab. Files are deleted at end of the session\n",
        "# File is the address in a single cell and then the postcode. Postcode is not used . Included in case I want to use it later\n",
        "\n",
        "addressdf.columns = ['address', 'postcode'] #rename columns so that it won't error if columns named differently\n",
        "\n",
        "addressdf['cleaned_address'] = addressdf['address'].str.replace(r'\\W+', '', regex=True) #adds a new column. New column is address with white space/non alpha\n",
        "\n",
        "addressdf['cleaned_address'] = addressdf['cleaned_address'].str.upper() # converts to upper\n",
        "\n",
        "addressdf['levenstein_score'] = addressdf['cleaned_address'].apply(lambda x: pl.distance(x, cleanMatch)) #calculates the lev distance\n",
        "\n",
        "#gives a classification of the lev distance by calling categorise score function\n",
        "addressdf['category'] = addressdf.apply(categorise_score, axis=1)\n",
        "\n",
        "\n",
        "#gets a count of those classifcation then prints them\n",
        "cat_counts = addressdf['category'].str.split().explode().value_counts()\n",
        "print(cat_counts)\n",
        "\n",
        "#calculates the frequency of each levenstien score\n",
        "column_freq = addressdf['levenstein_score'].value_counts()\n",
        "\n",
        "# Plot the frequency chart using Seaborn\n",
        "plt.figure(figsize=(10, 6))\n",
        "sns.barplot(x=column_freq.index, y=column_freq.values)\n",
        "plt.xlabel('levenstein score')\n",
        "plt.ylabel('Frequency')\n",
        "plt.title('Frequency Chart for levenstein_score')\n",
        "plt.xticks(rotation=90)\n",
        "plt.show()\n",
        "\n",
        "column_freq_cat = addressdf['category'].value_counts()\n",
        "\n",
        "# Plot the frequency chart using Seaborn\n",
        "plt.figure(figsize=(10, 6))\n",
        "sns.barplot(x=column_freq_cat.index, y=column_freq_cat.values)\n",
        "plt.xlabel('Category')\n",
        "plt.ylabel('Frequency')\n",
        "plt.title('Frequency Chart for Category')\n",
        "plt.xticks(rotation=90)\n",
        "plt.show()\n",
        "\n",
        "addressdf.to_csv(r\"/content/addressresults.csv\", index=False) #exports the results so you can look at them\n",
        "\n",
        "print(\"complete\") # so you can tell its finished. You need to f5 to see file"
      ]
    },
    {
      "cell_type": "markdown",
      "source": [
        "### Classification analysis - to use this section take your results from first section and export to excel. Add a new column to the end where you classify each address. Save and reimport your results. It will give you a statistical score of how good the predictions are and also a confusion matrix. What we are concerned about is auto-matching when it should be a new address. These stats will allow you to tweak the parameters"
      ],
      "metadata": {
        "id": "pv5hDI0CBrzf"
      }
    },
    {
      "cell_type": "code",
      "source": [
        "!pip install scikit-learn\n",
        "\n",
        "text_description5 = widgets.HTML(value=\" import your results sheet including you classifations\")\n",
        "upload2 = widgets.FileUpload(\n",
        "\n",
        "    accept='.csv',  # Specify the accepted file type (optional)\n",
        "    multiple=False   # Set to True if you want to allow multiple files to be uploaded\n",
        ")\n",
        "\n",
        "display(upload2, text_description5)\n",
        "\n"
      ],
      "metadata": {
        "colab": {
          "base_uri": "https://localhost:8080/",
          "height": 168,
          "referenced_widgets": [
            "48b7bf5bb8e14ba8ad8b75e9a1654074",
            "950f63d03e504ddca3e4cc07ed64cff1",
            "55c434be7a3940199012460791aebf7b",
            "23809b4af28843a19ee212c328f43dff",
            "ffc4d337749347cd9501a5fdfc0275c1",
            "f7ca56e7721f4aa9985add4abbe7a55d"
          ]
        },
        "id": "Jqu1MjwaD4LN",
        "outputId": "9f949dee-cc2f-4f98-f1ac-ca7a4993b119"
      },
      "execution_count": 17,
      "outputs": [
        {
          "output_type": "stream",
          "name": "stdout",
          "text": [
            "Requirement already satisfied: scikit-learn in /usr/local/lib/python3.10/dist-packages (1.2.2)\n",
            "Requirement already satisfied: numpy>=1.17.3 in /usr/local/lib/python3.10/dist-packages (from scikit-learn) (1.22.4)\n",
            "Requirement already satisfied: scipy>=1.3.2 in /usr/local/lib/python3.10/dist-packages (from scikit-learn) (1.10.1)\n",
            "Requirement already satisfied: joblib>=1.1.1 in /usr/local/lib/python3.10/dist-packages (from scikit-learn) (1.3.1)\n",
            "Requirement already satisfied: threadpoolctl>=2.0.0 in /usr/local/lib/python3.10/dist-packages (from scikit-learn) (3.2.0)\n"
          ]
        },
        {
          "output_type": "display_data",
          "data": {
            "text/plain": [
              "FileUpload(value={}, accept='.csv', description='Upload')"
            ],
            "application/vnd.jupyter.widget-view+json": {
              "version_major": 2,
              "version_minor": 0,
              "model_id": "48b7bf5bb8e14ba8ad8b75e9a1654074"
            }
          },
          "metadata": {}
        },
        {
          "output_type": "display_data",
          "data": {
            "text/plain": [
              "HTML(value=' import your results sheet including you classifations')"
            ],
            "application/vnd.jupyter.widget-view+json": {
              "version_major": 2,
              "version_minor": 0,
              "model_id": "23809b4af28843a19ee212c328f43dff"
            }
          },
          "metadata": {}
        }
      ]
    },
    {
      "cell_type": "code",
      "source": [
        "from sklearn.metrics import cohen_kappa_score\n",
        "import numpy as np\n",
        "import pandas as pd\n",
        "from sklearn.metrics import confusion_matrix\n",
        "import seaborn as sns\n",
        "import matplotlib.pyplot as plt\n",
        "\n",
        "uploaded_file2 = list(upload2.value.values())[0]\n",
        "\n",
        "\n",
        "\n",
        "# Get the file content as bytes\n",
        "file_content2 = uploaded_file2['content']\n",
        "\n",
        "classdf = pd.read_csv(io.BytesIO(file_content2)) # upload file as a raw string. files are uploaded into a panda.\n",
        "\n",
        "classdf = classdf.rename(columns={classdf.columns[5]: \"human\"}) # rename column\n",
        "\n",
        "human_ratings = classdf['human'] #get human judgements\n",
        "computer_ratings = classdf['category'] #get computer judgements\n",
        "\n",
        "# Calculate Cohen's Kappa\n",
        "kappa_score = cohen_kappa_score(human_ratings, computer_ratings)\n",
        "\n",
        "# Output the result\n",
        "print(\"Cohen's Kappa:\", kappa_score)\n",
        "\n",
        "if kappa_score < 0:\n",
        "        feedback = \"A negative value of Cohen's Kappa suggests that there is less agreement between the two raters than would be expected by chance. This indicates substantial disagreement or systematic disagreement between the two sets of ratings.\"\n",
        "elif kappa_score == 0:\n",
        "        feedback = \"A kappa value of 0 indicates that the observed agreement is the same as expected by chance. There is no agreement between the raters beyond what would be expected due to random chance.\"\n",
        "elif kappa_score < 0.2:\n",
        "        feedback = \"This range of Cohen's Kappa is considered slight agreement. The agreement between the raters is minimal and might not be reliable.\"\n",
        "elif kappa_score < 0.4:\n",
        "        feedback = \"A kappa value in this range indicates fair agreement. The level of agreement is better than chance but still relatively modest.\"\n",
        "elif kappa_score < 0.6:\n",
        "        feedback = \"A kappa value in this range suggests moderate agreement. The level of agreement is considered acceptable for many applications.\"\n",
        "elif kappa_score < 0.8:\n",
        "        feedback = \"A kappa value in this range indicates substantial agreement. The agreement between the two raters is relatively strong.\"\n",
        "else:\n",
        "        feedback = \"A kappa value of 0.8 or higher represents almost perfect agreement. It means that the two raters' judgments closely align, and the results are highly reliable.\"\n",
        "\n",
        "print(feedback)\n",
        "\n",
        "\n",
        "\n",
        "# Get the common unique values from both human_ratings and computer_ratings\n",
        "unique_values = sorted(set(human_ratings.unique()) | set(computer_ratings.unique()))\n",
        "\n",
        "# Calculate the confusion matrix\n",
        "cm = confusion_matrix(human_ratings, computer_ratings, labels=unique_values)\n",
        "\n",
        "confusion_matrix_df = pd.DataFrame(cm, index=unique_values, columns=unique_values)\n",
        "\n",
        "# Plot the confusion matrix as a heatmap\n",
        "plt.figure(figsize=(6, 4))\n",
        "sns.heatmap(confusion_matrix_df, annot=True, fmt='d', cmap='Blues')\n",
        "plt.title(\"Confusion Matrix - Human vs. Computer Ratings\")\n",
        "plt.xlabel(\"Computer Ratings\")\n",
        "plt.ylabel(\"Human Ratings\")\n",
        "plt.show()\n",
        "\n",
        "# Combine human and computer ratings into a DataFrame for easy comparison\n",
        "ratings_comparison = pd.DataFrame({'Human_Ratings': human_ratings, 'Computer_Ratings': computer_ratings})\n",
        "\n",
        "# Create a count plot to visualize the frequency of agreements and disagreements\n",
        "# the colours represent how the computer matched our interpretations\n",
        "plt.figure(figsize=(6, 4))\n",
        "sns.countplot(x='Human_Ratings', hue='Computer_Ratings', data=ratings_comparison)\n",
        "plt.title('Comparison of Human and Computer Ratings')\n",
        "plt.xlabel('Human Ratings')\n",
        "plt.ylabel('Count')\n",
        "plt.show()\n",
        "\n",
        "\n",
        "\n",
        "\n",
        "\n",
        "\n",
        "\n"
      ],
      "metadata": {
        "colab": {
          "base_uri": "https://localhost:8080/",
          "height": 858
        },
        "id": "CpkhazJYF7Bq",
        "outputId": "ddf2470e-6eac-4766-a0ed-6fa37b799d9d"
      },
      "execution_count": 30,
      "outputs": [
        {
          "output_type": "stream",
          "name": "stdout",
          "text": [
            "Cohen's Kappa: -0.03478773584905648\n",
            "A negative value of Cohen's Kappa suggests that there is less agreement between the two raters than would be expected by chance. This indicates substantial disagreement or systematic disagreement between the two sets of ratings.\n"
          ]
        },
        {
          "output_type": "display_data",
          "data": {
            "text/plain": [
              "<Figure size 600x400 with 2 Axes>"
            ],
            "image/png": "[encoded data removed]"
          },
          "metadata": {}
        },
        {
          "output_type": "display_data",
          "data": {
            "text/plain": [
              "<Figure size 600x400 with 1 Axes>"
            ],
            "image/png": "[encoded data removed]"
          },
          "metadata": {}
        }
      ]
    }
  ]
}