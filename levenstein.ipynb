{
  "nbformat": 4,
  "nbformat_minor": 0,
  "metadata": {
    "colab": {
      "provenance": [],
      "authorship_tag": "ABX9TyNSmDfvK615zjdnrcDxkn3L",
      "include_colab_link": true
    },
    "kernelspec": {
      "name": "python3",
      "display_name": "Python 3"
    },
    "language_info": {
      "name": "python"
    }
  },
  "cells": [
    {
      "cell_type": "markdown",
      "metadata": {
        "id": "view-in-github",
        "colab_type": "text"
      },
      "source": [
        "<a href=\"https://colab.research.google.com/github/RickFaint/varioususefulbatchfiles/blob/main/levenstein.ipynb\" target=\"_parent\"><img src=\"https://colab.research.google.com/assets/colab-badge.svg\" alt=\"Open In Colab\"/></a>"
      ]
    },
    {
      "cell_type": "code",
      "execution_count": 6,
      "metadata": {
        "colab": {
          "base_uri": "https://localhost:8080/"
        },
        "id": "GERo_VjQAnmM",
        "outputId": "2e19a71c-121d-4698-8514-157329a7ff30"
      },
      "outputs": [
        {
          "output_type": "stream",
          "name": "stdout",
          "text": [
            "Drive already mounted at /content/drive; to attempt to forcibly remount, call drive.mount(\"/content/drive\", force_remount=True).\n",
            "AMAZONBOLTONMAN3360LogisticsNorth\n",
            "<bound method NDFrame.head of                                                    To     ToPC\n",
            "0   AMAZON UK SERVICES MAN 3. Turn left onto Bridg...  BL5 1BT\n",
            "1          AMAZON - BOLTON (MAN3) 360 Logistics North  BL5 1BT\n",
            "2   AMAZON MAN3 360 LOGISTICS NORTH OVERHULTON  HU...  BL5 1BT\n",
            "3                  BITO STORAGE SYSTEMS 360 LOGISTICS  BL5 1BT\n",
            "4   AMAZON BOLTON (MAN3) BRIDGEWATERV AVENUE  UNIT...  BL5 1BT\n",
            "5   Amazon EU Sarl 360 LOGISTICS N  LOGISTICS NORT...  BL5 1BT\n",
            "6   AMAZON BOLTON  MAN3 BRIDGEWATER AVENUE  Hulton...  BL5 1BT\n",
            "7   AMAZON BOLTON MAN3 LOGISTICS N 360  HULTON HEY...  BL5 1BT\n",
            "8   AMAZON FULFILLMENT CENTER LOGISTICS NORTH OVER...  BL5 1BT\n",
            "9   AMAZON EU SARL UK  (MAN3) Unit F2 G&H Logistic...  BL5 1BT\n",
            "10        AMAZON EU SARL (UK) AMAZON UK MAN 3  BOLTON  BL5 1BT\n",
            "11  AMAZON MAN3 360 LOGISTICS NORTH OVERHULTON  36...  BL5 1BT\n",
            "12  AMAZON MAN3 360 LOGISTICS NORTH OVERHULTO  OVE...  BL5 1BT\n",
            "13                AMAZON UK 360 LOGISTICS NORTH  MAN3  BL5 1BT\n",
            "14      AMAZON UK SERVICE LTD MAN3 Bridgewater Avenue  BL5 1BT\n",
            "15       AMAZON 360 LOGISTICS NORTH OVER  OVER HULTON  BL5 1BT\n",
            "16  AMAZON - BOLTON (MAN3) 360 LOGISTICS NORTH  HU...  BL5 1BT\n",
            "17  AMAZON UK SERVICES LTD MAN3 AMAZONCOUKLTD  UNI...  BL5 1BT\n",
            "18  AMAZON.CO.UK - MAN 3 6364 North Over Hulton  3...  BL5 1BT\n",
            "19   Amazon EU SARL UK BranchMAN 3 BRIDGEWATER AVENUE  BL5 1BT\n",
            "20  AMAZON UK AMAZON EU SARL UK BRANCH  LOGISTICS ...  BL5 1BT\n",
            "21      RIJO42 Man 3 360 Logistics North  Over Hilton  BL5 1BT\n",
            "22       AMAZON.CO.UK MAN3 DXM5 INIT F2 G & H  BOLTON  BL5 1BT\n",
            "23  Amazon EU SARL Uk Branch BRIDGEWATER AVENUE  U...  BL5 1BT\n",
            "24        MAN3 AMAZON BRIDGEWATER AVENUE  OVER HULTON  BL5 1BT\n",
            "25  AMAZON - BOLTON (MAN3) BRIDGEWATER AVENUE OVER...  BL5 1BT\n",
            "26  AMAZON EU S.A.R.L. MAN3 (BOLTON) UNIT E1 LOGIS...  BL5 1BT\n",
            "27  AMAZON - BOLTON (MAN3) 360 Logistics Noth  OVE...  BL5 1BT\n",
            "28  AMAZON UK SERVICE LTD MAN3 BRIDGEWATER AVENUE ...  BL5 1BT\n",
            "29  AMAZON UK SERVICES LTD. APACHE HOUSE UNIT F2E ...  BL5 1BT\n",
            "30  Amazon EU Sarl 360 Logistics North  OverHult  ...  BL5 1BT\n",
            "31                 AMAZON MAN3 360 LOGISTICS NORTH  -  BL5 1BT\n",
            "32    AMAZON MAN3 BRIDGEWATER AVENUE  HULTON HEYS WAY  BL5 1BT\n",
            "33  AMAZON UK SERVICES LTD MAN 3 360 LOGISTICS NOR...  BL5 1BT\n",
            "34    AMAZON MAN3 Bridgewater Avenue  HULTON HEYS WAY  BL5 1BT\n",
            "35  AMAZON MAN3 Bridgewater Ave  Over Hulton North...  BL5 1BT\n",
            "36                 Amazon EU Sarl 360 LOGISTICS NORTH  BL5 1BT\n",
            "37  AMAZON Bolton 360 Logistics BRIDGEWATER AVENUE...  BL5 1BT\n",
            "38           AMAZON MAN3 BRIDGEWATER AVE  Over Hulton  BL5 1BT\n",
            "39  Amazon EU Sarl LOGISTICS NORTH OVER 360  UNIT ...  BL5 1BT\n",
            "40         AMAZON MAN3 360 LOGISTICS NORTH OVERHULTON  BL5 1BT\n",
            "41  Amazon EU SARL  UK Branch -  OVER HULTON HULTO...  BL5 1FQ\n",
            "42  AMAZON FULFILLMENT CENTER 360 LOGISTICS NORTH ...  BL5 1FQ\n",
            "43               AMAZON 360 LOGISTICS NORTH OVERHULTO  BL5 1FQ\n",
            "44  AMAZON UK LOGISTICS NORTH OVER HULTON  UNIT E1...  BL5 1FQ>\n",
            "complete\n"
          ]
        }
      ],
      "source": [
        "#!pip install pandas\n",
        "#!pip install python-Levenshtein\n",
        "from google.colab import drive\n",
        "import pandas as pd #import panda library\n",
        "import Levenshtein as pl #import levenstein library\n",
        "import re #import regex library\n",
        "\n",
        "drive.mount('/content/drive') # this mounts your google drive\n",
        "matchaddress = \"AMAZON - BOLTON (MAN3) 360 Logistics North\" # comparison address. Replace with the new address\n",
        "cleanMatch = re.sub(r'\\W+', '', matchaddress)  # removes all white scace and any non alpha numberic charactors\n",
        "print(cleanMatch) # prints the clean match address out this is for checking puporses\n",
        "addressdf = pd.read_csv(r\"/content/addressdata.csv\") # upload file as a raw string. files are uploaded into a panda.\n",
        "# You will need to upload your file via the file menu on colab. Files are deleted at end of the session\n",
        "# File is the address in a single cell and then the postcode. Postcode is not used . Included in case I want to use it later\n",
        "addressdf.columns = ['address', 'postcode'] #rename columns so that it won't error if columns named differently\n",
        "addressdf['cleaned_address'] = addressdf['address'].str.replace(r'\\W+', '', regex=True) #adds a new column. New column is address with white space and non alpha removed\n",
        "addressdf['levenstein_score'] = addressdf['cleaned_address'].apply(lambda x: pl.distance(x, cleanMatch)) #calculates the lev distance\n",
        "addressdf.to_csv(r\"/content/addressresults.csv\", index=False) #exports the results so you can look at them\n",
        "print(\"complete\") # so you can tell its finished"
      ]
    },
    {
      "cell_type": "markdown",
      "source": [
        "# New section"
      ],
      "metadata": {
        "id": "pv5hDI0CBrzf"
      }
    }
  ]
}